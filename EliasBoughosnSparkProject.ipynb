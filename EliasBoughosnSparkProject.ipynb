{
  "nbformat": 4,
  "nbformat_minor": 0,
  "metadata": {
    "colab": {
      "name": "EliasBoughosnSparkProject.ipynb",
      "provenance": [],
      "include_colab_link": true
    },
    "kernelspec": {
      "display_name": "Python 2",
      "language": "python",
      "name": "python2"
    },
    "language_info": {
      "codemirror_mode": {
        "name": "ipython",
        "version": 2
      },
      "file_extension": ".py",
      "mimetype": "text/x-python",
      "name": "python",
      "nbconvert_exporter": "python",
      "pygments_lexer": "ipython2",
      "version": "2.7.14"
    }
  },
  "cells": [
    {
      "cell_type": "markdown",
      "metadata": {
        "id": "view-in-github",
        "colab_type": "text"
      },
      "source": [
        "<a href=\"https://colab.research.google.com/github/eliasboughosn/Spark-ML-Algorithms/blob/main/EliasBoughosnSparkProject.ipynb\" target=\"_parent\"><img src=\"https://colab.research.google.com/assets/colab-badge.svg\" alt=\"Open In Colab\"/></a>"
      ]
    },
    {
      "cell_type": "markdown",
      "metadata": {
        "id": "29RhzZy5n53g",
        "outputId": "7369d4cb-b602-46ab-b39d-4521bd25c3d6"
      },
      "source": [
        "# Uploading data from bucket"
      ]
    },
    {
      "cell_type": "code",
      "metadata": {
        "id": "YPrdd9sSMPto",
        "outputId": "0e842664-3c11-481a-8d71-171eea6a359e"
      },
      "source": [
        "!gsutil cp gs://projecteliasbg/* ."
      ],
      "execution_count": null,
      "outputs": [
        {
          "name": "stdout",
          "output_type": "stream",
          "text": [
            "Copying gs://projecteliasbg/reviews.csv...\n",
            "- [1 files][ 16.0 MiB/ 16.0 MiB]                                                \n",
            "Operation completed over 1 objects/16.0 MiB.                                     \n"
          ]
        }
      ]
    },
    {
      "cell_type": "markdown",
      "metadata": {
        "id": "TumDUcRqMPt-"
      },
      "source": [
        "### Copying from local filesystem to the HDFS"
      ]
    },
    {
      "cell_type": "code",
      "metadata": {
        "id": "P1L6kASVn53t"
      },
      "source": [
        "!hdfs dfs -put reviews.csv /user/eliasboughosn"
      ],
      "execution_count": null,
      "outputs": []
    },
    {
      "cell_type": "markdown",
      "metadata": {
        "id": "VBDKaoGyMPuL"
      },
      "source": [
        "### Creating spark session"
      ]
    },
    {
      "cell_type": "code",
      "metadata": {
        "id": "KntGiinMn53u"
      },
      "source": [
        "from pyspark.context import SparkContext\n",
        "from pyspark.sql.session import SparkSession\n",
        "sc = SparkContext('local')\n",
        "spark = SparkSession(sc)"
      ],
      "execution_count": null,
      "outputs": []
    },
    {
      "cell_type": "code",
      "metadata": {
        "id": "L8JiyV6Mn53u"
      },
      "source": [
        "reviews_on_hdfs = \"/user/eliasboughosn\""
      ],
      "execution_count": null,
      "outputs": []
    },
    {
      "cell_type": "code",
      "metadata": {
        "id": "ezNRMeAen53v",
        "outputId": "bc4cb2e1-760c-4f4d-d63c-2098ae6bf3dc"
      },
      "source": [
        "reviews = spark.read.csv(reviews_on_hdfs).sample(0.1) #reading data from cloud\n",
        "reviews.show(n=5)"
      ],
      "execution_count": null,
      "outputs": [
        {
          "name": "stdout",
          "output_type": "stream",
          "text": [
            "+---+--------------------+---+\n",
            "|_c0|                 _c1|_c2|\n",
            "+---+--------------------+---+\n",
            "|  5|Great course - I ...|  5|\n",
            "| 27|Great content! Le...|  5|\n",
            "| 29|I found this cour...|  5|\n",
            "| 44|A really challeng...|  5|\n",
            "| 48|I'll start by say...|  3|\n",
            "+---+--------------------+---+\n",
            "only showing top 5 rows\n",
            "\n"
          ]
        }
      ]
    },
    {
      "cell_type": "code",
      "metadata": {
        "id": "-i0wA7yDn53v",
        "outputId": "48435ef9-ad7f-4b57-e5e4-56540894d241"
      },
      "source": [
        "reviews = reviews.selectExpr(\"_c0 as id\", \"_c1 as comments\",\"_c2 as label\") #Renaming columns\n",
        "reviews.show()\n",
        "reviews.printSchema()"
      ],
      "execution_count": null,
      "outputs": [
        {
          "name": "stdout",
          "output_type": "stream",
          "text": [
            "+---+--------------------+-----+\n",
            "| id|            comments|label|\n",
            "+---+--------------------+-----+\n",
            "|  5|Great course - I ...|    5|\n",
            "| 27|Great content! Le...|    5|\n",
            "| 29|I found this cour...|    5|\n",
            "| 44|A really challeng...|    5|\n",
            "| 48|I'll start by say...|    3|\n",
            "| 54|    very interesting|    5|\n",
            "| 76|Great review of w...|    5|\n",
            "| 79|A lot of speaking...|    1|\n",
            "| 86|Great overview an...|    5|\n",
            "| 87|So great! If you ...|    5|\n",
            "|108|This course was f...|    5|\n",
            "|109|Great course. Can...|    5|\n",
            "|128|Very nice introdu...|    5|\n",
            "|148|Great content, th...|    5|\n",
            "|153|An excellent cour...|    5|\n",
            "|158|        Great Class!|    5|\n",
            "|161|A good Introducti...|    4|\n",
            "|178|It was a perfect ...|    5|\n",
            "|179|\"Best place to ge...|    5|\n",
            "|182|This is a really ...|    5|\n",
            "+---+--------------------+-----+\n",
            "only showing top 20 rows\n",
            "\n",
            "root\n",
            " |-- id: string (nullable = true)\n",
            " |-- comments: string (nullable = true)\n",
            " |-- label: string (nullable = true)\n",
            "\n"
          ]
        }
      ]
    },
    {
      "cell_type": "markdown",
      "metadata": {
        "id": "2jCVCwbmMPul"
      },
      "source": [
        "### Importing the libraries we need"
      ]
    },
    {
      "cell_type": "code",
      "metadata": {
        "id": "42dPngBMn53w"
      },
      "source": [
        "from pyspark.ml.regression import LinearRegression\n",
        "from pyspark.ml.classification import LogisticRegression, RandomForestClassifier\n",
        "from pyspark.ml.evaluation import BinaryClassificationEvaluator\n",
        "from pyspark.ml.pipeline import Pipeline\n",
        "from pyspark.ml.feature import Tokenizer, HashingTF, IDF, Word2Vec"
      ],
      "execution_count": null,
      "outputs": []
    },
    {
      "cell_type": "markdown",
      "metadata": {
        "id": "Qxl54CNEMPuu"
      },
      "source": [
        "### Dropping Na rows"
      ]
    },
    {
      "cell_type": "code",
      "metadata": {
        "id": "vVI4lAhJn53y",
        "outputId": "df36d67f-2eb0-4b12-8b18-55a920555c19"
      },
      "source": [
        "reviews.dropna().count()"
      ],
      "execution_count": null,
      "outputs": [
        {
          "data": {
            "text/plain": [
              "10719"
            ]
          },
          "execution_count": 8,
          "metadata": {},
          "output_type": "execute_result"
        }
      ]
    },
    {
      "cell_type": "code",
      "metadata": {
        "id": "XhLEev1Yn53z",
        "outputId": "bb0c00eb-204e-42db-8a62-0146d9a6f6eb"
      },
      "source": [
        "df = reviews.selectExpr(\"cast(label as int) label\",\"cast(comments as string) comments\",\"cast(id as string) id\")\n",
        "df.printSchema()"
      ],
      "execution_count": null,
      "outputs": [
        {
          "name": "stdout",
          "output_type": "stream",
          "text": [
            "root\n",
            " |-- label: integer (nullable = true)\n",
            " |-- comments: string (nullable = true)\n",
            " |-- id: string (nullable = true)\n",
            "\n"
          ]
        }
      ]
    },
    {
      "cell_type": "code",
      "metadata": {
        "id": "J_R_ZrtVn53z",
        "outputId": "b8a0ce39-032b-4756-84e2-b12b2d142e71"
      },
      "source": [
        "df.toPandas()['label'].value_counts()"
      ],
      "execution_count": null,
      "outputs": [
        {
          "data": {
            "text/plain": [
              "5.0    7784\n",
              "4.0    1817\n",
              "3.0     522\n",
              "1.0     248\n",
              "2.0     214\n",
              "Name: label, dtype: int64"
            ]
          },
          "execution_count": 10,
          "metadata": {},
          "output_type": "execute_result"
        }
      ]
    },
    {
      "cell_type": "code",
      "metadata": {
        "id": "2kR2ZaYyn530",
        "outputId": "4b1500f7-5fc0-441e-aa67-d958543d2650"
      },
      "source": [
        "df.dropna().count()"
      ],
      "execution_count": null,
      "outputs": [
        {
          "data": {
            "text/plain": [
              "10585"
            ]
          },
          "execution_count": 11,
          "metadata": {},
          "output_type": "execute_result"
        }
      ]
    },
    {
      "cell_type": "code",
      "metadata": {
        "id": "Nv94pnJSn530"
      },
      "source": [
        "df = df[(df[\"label\"]==\"1\") | (df[\"label\"]==\"2\") | (df[\"label\"]==\"3\") | (df[\"label\"]==\"4\") | (df[\"label\"]==\"5\")] #making sure we only have these values"
      ],
      "execution_count": null,
      "outputs": []
    },
    {
      "cell_type": "code",
      "metadata": {
        "id": "41CPm6LMn531",
        "outputId": "c1c90ac9-7f7c-44d2-873d-cadba33e9151"
      },
      "source": [
        "print(df.count())\n",
        "print(df.dropna().count())"
      ],
      "execution_count": null,
      "outputs": [
        {
          "name": "stdout",
          "output_type": "stream",
          "text": [
            "10585\n",
            "10585\n"
          ]
        }
      ]
    },
    {
      "cell_type": "code",
      "metadata": {
        "id": "eETu_se3n531",
        "outputId": "6832557a-a081-40bd-dc2f-13379907480d"
      },
      "source": [
        "df.toPandas()['label'].unique()"
      ],
      "execution_count": null,
      "outputs": [
        {
          "data": {
            "text/plain": [
              "array([5, 3, 1, 4, 2])"
            ]
          },
          "execution_count": 15,
          "metadata": {},
          "output_type": "execute_result"
        }
      ]
    },
    {
      "cell_type": "code",
      "metadata": {
        "id": "9D-0kvKMn531"
      },
      "source": [
        "df=df.toPandas().sort_values(['label'])\n"
      ],
      "execution_count": null,
      "outputs": []
    },
    {
      "cell_type": "code",
      "metadata": {
        "id": "9dlIvDf8n532",
        "outputId": "e434afe9-8a62-45b7-9ba2-278292b79d18"
      },
      "source": [
        "df['label'].value_counts()"
      ],
      "execution_count": null,
      "outputs": [
        {
          "data": {
            "text/plain": [
              "5    7784\n",
              "4    1817\n",
              "3     522\n",
              "1     248\n",
              "2     214\n",
              "Name: label, dtype: int64"
            ]
          },
          "execution_count": 17,
          "metadata": {},
          "output_type": "execute_result"
        }
      ]
    },
    {
      "cell_type": "markdown",
      "metadata": {
        "id": "PM71em6wMPvc"
      },
      "source": [
        "### We can observe that the data is imbalanced, and most of the label values are 4 and 5"
      ]
    },
    {
      "cell_type": "code",
      "metadata": {
        "id": "OUdLbmGYn532"
      },
      "source": [
        "# df.drop(df.tail(5000).index, \n",
        "#         inplace = True)"
      ],
      "execution_count": null,
      "outputs": []
    },
    {
      "cell_type": "code",
      "metadata": {
        "id": "pvVkLJ74n533",
        "outputId": "96d19379-5fde-4eb3-8bdc-316906ccdbc9"
      },
      "source": [
        "df['label'].value_counts()"
      ],
      "execution_count": null,
      "outputs": [
        {
          "data": {
            "text/plain": [
              "5    7784\n",
              "4    1817\n",
              "3     522\n",
              "1     248\n",
              "2     214\n",
              "Name: label, dtype: int64"
            ]
          },
          "execution_count": 18,
          "metadata": {},
          "output_type": "execute_result"
        }
      ]
    },
    {
      "cell_type": "markdown",
      "metadata": {
        "id": "8VNfLEkBMPve"
      },
      "source": [
        "### choosing a sample of the data"
      ]
    },
    {
      "cell_type": "code",
      "metadata": {
        "id": "7JKoEv4rn533"
      },
      "source": [
        "df = df.sample(frac = 1) "
      ],
      "execution_count": null,
      "outputs": []
    },
    {
      "cell_type": "code",
      "metadata": {
        "id": "ph8UIfavn533"
      },
      "source": [
        "from pyspark.sql import SQLContext #transforming the pandas df to spark df\n",
        "sc = SparkContext.getOrCreate()\n",
        "sqlContext = SQLContext(sc)\n",
        "\n",
        "df = sqlContext.createDataFrame(df)"
      ],
      "execution_count": null,
      "outputs": []
    },
    {
      "cell_type": "markdown",
      "metadata": {
        "id": "QNhAQLOCMPvf"
      },
      "source": [
        "### First approach:\n",
        "#### i will use a pipeline to preprocess the data and then apply machine learning\n",
        "### Second approach:\n",
        "#### i will use a full pipline including machine learning and grid search"
      ]
    },
    {
      "cell_type": "markdown",
      "metadata": {
        "id": "tMw17ZLQMPvg"
      },
      "source": [
        "### First approach:"
      ]
    },
    {
      "cell_type": "markdown",
      "metadata": {
        "id": "i-H0qV12MPvg"
      },
      "source": [
        "### linear regression"
      ]
    },
    {
      "cell_type": "code",
      "metadata": {
        "id": "FAoRXH9An534",
        "outputId": "1b539cce-4383-4d83-e528-6e7954340423"
      },
      "source": [
        "data_preparation = Pipeline(stages=[\n",
        "    Tokenizer(inputCol=\"comments\", outputCol=\"words\"),\n",
        "    Word2Vec(inputCol=\"words\", outputCol=\"model\")\n",
        "])\n",
        "\n",
        "prepared_reviews = data_preparation.fit(df).transform(df)\n",
        "prepared_reviews.select(\"comments\", \"words\", \"model\").show(n=5)\n",
        "\n",
        "regression = LinearRegression(featuresCol=\"model\", labelCol=\"label\", maxIter=100, regParam=0.2, elasticNetParam=0.5)\n",
        "linearModel = regression.fit(prepared_reviews)\n",
        "\n",
        "print(\"coefficients: \" + str(linearModel.coefficients))\n",
        "print(\"intercept: \" + str(linearModel.intercept))"
      ],
      "execution_count": null,
      "outputs": [
        {
          "name": "stdout",
          "output_type": "stream",
          "text": [
            "+--------------------+--------------------+--------------------+\n",
            "|            comments|               words|               model|\n",
            "+--------------------+--------------------+--------------------+\n",
            "|Excellent course....|[excellent, cours...|[0.07188699306623...|\n",
            "|worthy enrolling ...|[worthy, enrollin...|[0.10604066448286...|\n",
            "|Very informative ...|[very, informativ...|[-0.0231658152949...|\n",
            "|Clear concise and...|[clear, concise, ...|[0.02680088599630...|\n",
            "|I think this cour...|[i, think, this, ...|[0.10638202540576...|\n",
            "+--------------------+--------------------+--------------------+\n",
            "only showing top 5 rows\n",
            "\n",
            "coefficients: [0.0,0.0,0.0,0.0,1.1225630310265953,0.0,0.0,0.0,0.0,0.0,0.0,0.0,0.0,0.0,0.0,0.0,0.0,0.0,0.0,-1.4562507819602137,0.0,0.0,0.0,0.0,0.0,0.0,0.0,0.0,0.0,0.0,0.0,0.0,0.0,0.0,0.0,0.0,0.0,0.0,0.0,0.0,0.0,0.0,0.0,0.0,0.0,0.0,0.0,0.0,0.0,0.0,0.0,0.0,0.0,0.0,0.0,0.0,0.0,0.0,0.0,0.0,0.0,0.0,0.0,0.0,0.0,0.0,0.0,0.0,0.0,0.0,0.0,0.0,0.0,0.3805755555539179,0.0,0.0,0.0,0.0,0.0,0.0,0.0,0.0,0.0,-0.6704112137268197,0.0,0.0,0.0,0.0,0.0,0.0,0.0,0.0,0.0,0.0,0.0,0.0,0.0,0.0,0.0,0.0]\n",
            "intercept: 4.52742161372\n"
          ]
        }
      ]
    },
    {
      "cell_type": "code",
      "metadata": {
        "id": "49YgnAaon535",
        "outputId": "c8fd87ff-8813-47fa-8fbd-2c74fdb2e9e4"
      },
      "source": [
        "prepared_reviews.columns"
      ],
      "execution_count": null,
      "outputs": [
        {
          "data": {
            "text/plain": [
              "['label', 'comments', 'id', 'words', 'model']"
            ]
          },
          "execution_count": 22,
          "metadata": {},
          "output_type": "execute_result"
        }
      ]
    },
    {
      "cell_type": "markdown",
      "metadata": {
        "id": "8IIeTTnjMPvi"
      },
      "source": [
        "### Evaluating linear regression model"
      ]
    },
    {
      "cell_type": "code",
      "metadata": {
        "id": "ZtN7dW5zn535",
        "outputId": "142291ee-499b-4224-c1bc-d9583e692587"
      },
      "source": [
        "trainingSummary = linearModel.summary\n",
        "print(\"RMSE: %f\" % trainingSummary.rootMeanSquaredError)\n",
        "print(\"r2: %f\" % trainingSummary.r2)"
      ],
      "execution_count": null,
      "outputs": [
        {
          "name": "stdout",
          "output_type": "stream",
          "text": [
            "RMSE: 0.825487\n",
            "r2: 0.085834\n"
          ]
        }
      ]
    },
    {
      "cell_type": "code",
      "metadata": {
        "id": "Mzf-wXOYn536",
        "outputId": "99fb3a28-2f10-4702-e925-626aee3d0e4e"
      },
      "source": [
        "train_predict = linearModel.transform(prepared_reviews)\n",
        "train_predict.select(\"prediction\", \"label\", \"model\").show()"
      ],
      "execution_count": null,
      "outputs": [
        {
          "name": "stdout",
          "output_type": "stream",
          "text": [
            "+------------------+-----+--------------------+\n",
            "|        prediction|label|               model|\n",
            "+------------------+-----+--------------------+\n",
            "| 4.598560979622734|    5|[0.07188699306623...|\n",
            "| 4.735281438981742|    4|[0.10604066448286...|\n",
            "| 4.657333868577057|    4|[-0.0231658152949...|\n",
            "| 4.610328518850617|    5|[0.02680088599630...|\n",
            "| 4.626508865595196|    5|[0.10638202540576...|\n",
            "| 4.533753977265069|    5|[0.01472329441457...|\n",
            "| 4.570310760248255|    4|[0.01319493338898...|\n",
            "| 4.486518133759836|    5|[8.09852240814103...|\n",
            "| 4.409366283336921|    3|[0.00687562356636...|\n",
            "| 4.466434298227776|    5|[-0.0104584770339...|\n",
            "| 4.540266883884273|    5|[0.01682652394040...|\n",
            "| 4.601135136909387|    4|[0.07849886112559...|\n",
            "|4.7216647135005525|    5|[-0.0129273744443...|\n",
            "|  4.59559739843674|    5|[-0.0083961978397...|\n",
            "|4.5352972389821975|    5|[0.06108043555702...|\n",
            "| 4.684430671966759|    5|[0.10123305656015...|\n",
            "| 4.855857876039043|    5|[0.22891789426406...|\n",
            "| 4.445840333618247|    5|[0.00492196508372...|\n",
            "| 4.461749241120024|    3|[0.00320507082086...|\n",
            "| 4.796184334655035|    5|[0.12744884720693...|\n",
            "+------------------+-----+--------------------+\n",
            "only showing top 20 rows\n",
            "\n"
          ]
        }
      ]
    },
    {
      "cell_type": "markdown",
      "metadata": {
        "id": "EAuhteiFMPvk"
      },
      "source": [
        "### logistic regression"
      ]
    },
    {
      "cell_type": "code",
      "metadata": {
        "id": "PKqexeUHn536",
        "outputId": "895ff1fb-afc7-4e7a-97e0-f12e2f611d1c"
      },
      "source": [
        "lr = LogisticRegression(featuresCol=\"model\", labelCol=\"label\",maxIter=10, regParam=0.3, elasticNetParam=0.8)\n",
        "lrModel = lr.fit(prepared_reviews)\n",
        "print(\"Multinomial coefficients: \" + str(lrModel.coefficientMatrix))\n",
        "print(\"Multinomial intercepts: \" + str(lrModel.interceptVector))"
      ],
      "execution_count": null,
      "outputs": [
        {
          "name": "stdout",
          "output_type": "stream",
          "text": [
            "Multinomial coefficients: 6 X 100 CSRMatrix\n",
            "\n",
            "Multinomial intercepts: [-5.832772742903181,-0.03915056495430942,-0.1880622090410842,0.7078640743818978,1.952217397488975,3.399904045027701]\n"
          ]
        }
      ]
    },
    {
      "cell_type": "markdown",
      "metadata": {
        "id": "yxw4skU2MPvl"
      },
      "source": [
        "### Evaluating logistic regression model"
      ]
    },
    {
      "cell_type": "code",
      "metadata": {
        "id": "fDGkTcgwn537",
        "outputId": "77fc8c39-92ff-45d9-e4a4-de42340da9ae"
      },
      "source": [
        "trainingSummary = lrModel.summary\n",
        "train_predict = lrModel.transform(prepared_reviews)\n",
        "train_predict.select(\"prediction\", \"label\", \"model\").show()"
      ],
      "execution_count": null,
      "outputs": [
        {
          "name": "stdout",
          "output_type": "stream",
          "text": [
            "+----------+-----+--------------------+\n",
            "|prediction|label|               model|\n",
            "+----------+-----+--------------------+\n",
            "|       5.0|    5|[0.07188699306623...|\n",
            "|       5.0|    4|[0.10604066448286...|\n",
            "|       5.0|    4|[-0.0231658152949...|\n",
            "|       5.0|    5|[0.02680088599630...|\n",
            "|       5.0|    5|[0.10638202540576...|\n",
            "|       5.0|    5|[0.01472329441457...|\n",
            "|       5.0|    4|[0.01319493338898...|\n",
            "|       5.0|    5|[8.09852240814103...|\n",
            "|       5.0|    3|[0.00687562356636...|\n",
            "|       5.0|    5|[-0.0104584770339...|\n",
            "|       5.0|    5|[0.01682652394040...|\n",
            "|       5.0|    4|[0.07849886112559...|\n",
            "|       5.0|    5|[-0.0129273744443...|\n",
            "|       5.0|    5|[-0.0083961978397...|\n",
            "|       5.0|    5|[0.06108043555702...|\n",
            "|       5.0|    5|[0.10123305656015...|\n",
            "|       5.0|    5|[0.22891789426406...|\n",
            "|       5.0|    5|[0.00492196508372...|\n",
            "|       5.0|    3|[0.00320507082086...|\n",
            "|       5.0|    5|[0.12744884720693...|\n",
            "+----------+-----+--------------------+\n",
            "only showing top 20 rows\n",
            "\n"
          ]
        }
      ]
    },
    {
      "cell_type": "markdown",
      "metadata": {
        "id": "rf9mTLWmMPvm"
      },
      "source": [
        "### RandomForest classifier"
      ]
    },
    {
      "cell_type": "code",
      "metadata": {
        "id": "vu1s7dF-n537",
        "outputId": "ac658556-6e91-4d7d-9a14-bfae9d5691ce"
      },
      "source": [
        "lr = RandomForestClassifier(featuresCol=\"model\", labelCol=\"label\")\n",
        "lrModel = lr.fit(prepared_reviews)\n",
        "\n",
        "train_predict = lrModel.transform(prepared_reviews)\n",
        "train_predict.select(\"prediction\", \"label\", \"model\").show()"
      ],
      "execution_count": null,
      "outputs": [
        {
          "name": "stdout",
          "output_type": "stream",
          "text": [
            "+----------+-----+--------------------+\n",
            "|prediction|label|               model|\n",
            "+----------+-----+--------------------+\n",
            "|       5.0|    5|[0.07188699306623...|\n",
            "|       5.0|    4|[0.10604066448286...|\n",
            "|       5.0|    4|[-0.0231658152949...|\n",
            "|       5.0|    5|[0.02680088599630...|\n",
            "|       5.0|    5|[0.10638202540576...|\n",
            "|       5.0|    5|[0.01472329441457...|\n",
            "|       5.0|    4|[0.01319493338898...|\n",
            "|       5.0|    5|[8.09852240814103...|\n",
            "|       4.0|    3|[0.00687562356636...|\n",
            "|       5.0|    5|[-0.0104584770339...|\n",
            "|       5.0|    5|[0.01682652394040...|\n",
            "|       5.0|    4|[0.07849886112559...|\n",
            "|       5.0|    5|[-0.0129273744443...|\n",
            "|       5.0|    5|[-0.0083961978397...|\n",
            "|       5.0|    5|[0.06108043555702...|\n",
            "|       5.0|    5|[0.10123305656015...|\n",
            "|       5.0|    5|[0.22891789426406...|\n",
            "|       5.0|    5|[0.00492196508372...|\n",
            "|       5.0|    3|[0.00320507082086...|\n",
            "|       5.0|    5|[0.12744884720693...|\n",
            "+----------+-----+--------------------+\n",
            "only showing top 20 rows\n",
            "\n"
          ]
        }
      ]
    },
    {
      "cell_type": "markdown",
      "metadata": {
        "id": "ZPvyQ9aUn538"
      },
      "source": [
        "## second approach"
      ]
    },
    {
      "cell_type": "markdown",
      "metadata": {
        "id": "e0DWIH-KMPvn"
      },
      "source": [
        "### linear regression"
      ]
    },
    {
      "cell_type": "code",
      "metadata": {
        "id": "6tdx2maYn539"
      },
      "source": [
        "pipeline = Pipeline(stages=[\n",
        "    Tokenizer(inputCol=\"comments\", outputCol=\"words\"),\n",
        "    Word2Vec(inputCol=\"words\", outputCol=\"model\"),\n",
        "    LinearRegression(featuresCol=\"model\",labelCol=\"label\")\n",
        "])"
      ],
      "execution_count": null,
      "outputs": []
    },
    {
      "cell_type": "markdown",
      "metadata": {
        "id": "qskJ5dR4MPvn"
      },
      "source": [
        "#### Parameter grid builder for linear regression"
      ]
    },
    {
      "cell_type": "code",
      "metadata": {
        "id": "FfJ3NTg9n539"
      },
      "source": [
        "from pyspark.ml.tuning import ParamGridBuilder\n",
        "\n",
        "param_grid = ParamGridBuilder()\\\n",
        "    .addGrid(\"regParam\", [0.1, 0.01]) \\\n",
        "    .addGrid(\"fitIntercept\", [False, True])\\\n",
        "    .addGrid(\"elasticNetParam\", [0.0, 0.5, 1.0])\\\n",
        "    .build()"
      ],
      "execution_count": null,
      "outputs": []
    },
    {
      "cell_type": "code",
      "metadata": {
        "id": "k1O9shNVn539"
      },
      "source": [
        "debug_data = df.sample(0.9).cache() #using a sample of the data"
      ],
      "execution_count": null,
      "outputs": []
    },
    {
      "cell_type": "code",
      "metadata": {
        "id": "3HOAyHgTn53-"
      },
      "source": [
        "train, test = debug_data.randomSplit([0.9, 0.1], seed=12345) # splitting the data to train and test sets"
      ],
      "execution_count": null,
      "outputs": []
    },
    {
      "cell_type": "code",
      "metadata": {
        "id": "BlwXVH6on53-"
      },
      "source": [
        "from pyspark.ml.tuning import TrainValidationSplit\n",
        "from pyspark.ml.evaluation import RegressionEvaluator\n",
        "\n",
        "LinearRegressionmodel = TrainValidationSplit(\n",
        "    estimator=pipeline,\n",
        "    estimatorParamMaps=param_grid,\n",
        "    evaluator=RegressionEvaluator()\n",
        ").fit(train)"
      ],
      "execution_count": null,
      "outputs": []
    },
    {
      "cell_type": "markdown",
      "metadata": {
        "id": "4rdHFMLlMPvp"
      },
      "source": [
        "### Evaluating linear regression model"
      ]
    },
    {
      "cell_type": "code",
      "metadata": {
        "id": "nrhoDY2Xn53-",
        "outputId": "3dc34e3d-56f0-43ae-8686-9670e091ba3d"
      },
      "source": [
        "from pyspark.ml.evaluation import MulticlassClassificationEvaluator\n",
        "\n",
        "MulticlassClassificationEvaluator(metricName=\"accuracy\")"
      ],
      "execution_count": null,
      "outputs": [
        {
          "data": {
            "text/plain": [
              "MulticlassClassificationEvaluator_400b99eef7d3b1d7472d"
            ]
          },
          "execution_count": 38,
          "metadata": {},
          "output_type": "execute_result"
        }
      ]
    },
    {
      "cell_type": "code",
      "metadata": {
        "id": "HzFovBlGn53_",
        "outputId": "bc88df9f-9556-4d11-d2e3-0f8cf3ee37f0"
      },
      "source": [
        "LinearRegressionmodel.validationMetrics"
      ],
      "execution_count": null,
      "outputs": [
        {
          "data": {
            "text/plain": [
              "[0.7504862642290097,\n",
              " 0.7504862642290097,\n",
              " 0.7504862642290097,\n",
              " 0.7504862642290097,\n",
              " 0.7504862642290097,\n",
              " 0.7504862642290097,\n",
              " 0.7504862642290097,\n",
              " 0.7504862642290097,\n",
              " 0.7504862642290097,\n",
              " 0.7504862642290097,\n",
              " 0.7504862642290097,\n",
              " 0.7504862642290097]"
            ]
          },
          "execution_count": 39,
          "metadata": {},
          "output_type": "execute_result"
        }
      ]
    },
    {
      "cell_type": "code",
      "metadata": {
        "id": "yqr3-Klln53_",
        "outputId": "249c7bf6-aeff-4771-d94b-424ff030bc66"
      },
      "source": [
        "LinearRegressionmodel.getEvaluator().getMetricName()"
      ],
      "execution_count": null,
      "outputs": [
        {
          "data": {
            "text/plain": [
              "'rmse'"
            ]
          },
          "execution_count": 40,
          "metadata": {},
          "output_type": "execute_result"
        }
      ]
    },
    {
      "cell_type": "code",
      "metadata": {
        "id": "F1QEZDsdn53_",
        "outputId": "f83bcba1-d55f-4516-9738-378df89cba6f"
      },
      "source": [
        "LinearRegressionmodel.transform(test)\\\n",
        "    .select(\"prediction\", \"label\", \"model\")\\\n",
        "    .show()"
      ],
      "execution_count": null,
      "outputs": [
        {
          "name": "stdout",
          "output_type": "stream",
          "text": [
            "+------------------+-----+--------------------+\n",
            "|        prediction|label|               model|\n",
            "+------------------+-----+--------------------+\n",
            "| 4.014135256778684|    1|[0.02868496689875...|\n",
            "| 4.556017619883908|    1|[-0.0603504687404...|\n",
            "| 4.329471912792087|    1|[-0.0301186458002...|\n",
            "| 4.356063556399902|    1|[-0.0062476471904...|\n",
            "|4.1000745965343395|    1|[-0.0042385605629...|\n",
            "| 3.959159932155589|    1|[-0.0198777261456...|\n",
            "| 4.081534317048458|    1|[-0.0177130518853...|\n",
            "|3.8599964180971535|    1|[-0.0156535421582...|\n",
            "| 4.516402158410314|    1|[-0.0369633138179...|\n",
            "| 4.267586465280406|    1|[-0.0821046175169...|\n",
            "|  3.44993656676805|    1|[-0.0099211590070...|\n",
            "|3.5390500406853374|    1|[-0.0327959347187...|\n",
            "| 4.307060100593686|    1|[-0.0207394393250...|\n",
            "| 4.145324964607281|    1|[-0.0280712807347...|\n",
            "| 4.145588719889501|    1|[0.00129717584083...|\n",
            "| 4.160680292527071|    1|[-0.0550121396387...|\n",
            "| 4.612759815941149|    1|[-0.0157080934870...|\n",
            "| 4.098559703318198|    1|[-0.0555058641030...|\n",
            "| 4.127078833729466|    1|[-0.0116023177703...|\n",
            "|3.9516939977588557|    2|[-0.0088467702050...|\n",
            "+------------------+-----+--------------------+\n",
            "only showing top 20 rows\n",
            "\n"
          ]
        }
      ]
    },
    {
      "cell_type": "code",
      "metadata": {
        "id": "h6W_8YaQn54A",
        "outputId": "017ab1c5-dc98-4551-f486-15c574b632ab"
      },
      "source": [
        "predictions_linearRegression = LinearRegressionmodel.transform(test)\n",
        "my_eval_nb = RegressionEvaluator(labelCol='label',metricName=\"rmse\")\n",
        "print(\"RMSE is : \"+ str(my_eval_nb.evaluate(predictions_linearRegression)))"
      ],
      "execution_count": null,
      "outputs": [
        {
          "name": "stdout",
          "output_type": "stream",
          "text": [
            "RMSE is : 0.788112569824\n"
          ]
        }
      ]
    },
    {
      "cell_type": "markdown",
      "metadata": {
        "id": "eWE6zLo5MPvr"
      },
      "source": [
        "### Logistic regression model"
      ]
    },
    {
      "cell_type": "code",
      "metadata": {
        "id": "vlToziZDn54A"
      },
      "source": [
        "pipeline = Pipeline(stages=[\n",
        "    Tokenizer(inputCol=\"comments\", outputCol=\"words\"),\n",
        "    Word2Vec(inputCol=\"words\", outputCol=\"model\"),\n",
        "    LogisticRegression(featuresCol=\"model\",labelCol=\"label\")\n",
        "])"
      ],
      "execution_count": null,
      "outputs": []
    },
    {
      "cell_type": "code",
      "metadata": {
        "id": "EfPWA5Rbn54B"
      },
      "source": [
        "from pyspark.ml.tuning import TrainValidationSplit\n",
        "from pyspark.ml.evaluation import RegressionEvaluator\n",
        "\n",
        "LogisticRegressionmodel = TrainValidationSplit(\n",
        "    estimator=pipeline,\n",
        "    estimatorParamMaps=param_grid,\n",
        "    evaluator=RegressionEvaluator(labelCol=\"label\")\n",
        ").fit(train)"
      ],
      "execution_count": null,
      "outputs": []
    },
    {
      "cell_type": "markdown",
      "metadata": {
        "id": "xIrUXcv6MPvs"
      },
      "source": [
        "### Evaluating logistic regression model"
      ]
    },
    {
      "cell_type": "code",
      "metadata": {
        "id": "J9xm79GVn54B",
        "outputId": "08b638b2-43f9-4110-a30f-f0dc5a790d4e"
      },
      "source": [
        "MulticlassClassificationEvaluator(metricName=\"accuracy\")"
      ],
      "execution_count": null,
      "outputs": [
        {
          "data": {
            "text/plain": [
              "MulticlassClassificationEvaluator_4d049eb4a474e2d11760"
            ]
          },
          "execution_count": 46,
          "metadata": {},
          "output_type": "execute_result"
        }
      ]
    },
    {
      "cell_type": "code",
      "metadata": {
        "id": "8y6p-Sbon54B",
        "outputId": "4802b147-6c7c-4742-e223-fbd852c837ae"
      },
      "source": [
        "LogisticRegressionmodel.validationMetrics"
      ],
      "execution_count": null,
      "outputs": [
        {
          "data": {
            "text/plain": [
              "[0.8938933639210286,\n",
              " 0.8938933639210286,\n",
              " 0.8938933639210286,\n",
              " 0.8938933639210286,\n",
              " 0.8938933639210286,\n",
              " 0.8938933639210286,\n",
              " 0.8938933639210286,\n",
              " 0.8938933639210286,\n",
              " 0.8938933639210286,\n",
              " 0.8938933639210286,\n",
              " 0.8938933639210286,\n",
              " 0.8938933639210286]"
            ]
          },
          "execution_count": 47,
          "metadata": {},
          "output_type": "execute_result"
        }
      ]
    },
    {
      "cell_type": "code",
      "metadata": {
        "id": "VX6TNUO-n54C",
        "outputId": "e3ca3d70-2331-4b33-b1df-309559f67d60"
      },
      "source": [
        "LogisticRegressionmodel.getEvaluator().getMetricName()"
      ],
      "execution_count": null,
      "outputs": [
        {
          "data": {
            "text/plain": [
              "'rmse'"
            ]
          },
          "execution_count": 48,
          "metadata": {},
          "output_type": "execute_result"
        }
      ]
    },
    {
      "cell_type": "code",
      "metadata": {
        "id": "I1RVibdOn54C",
        "outputId": "e3db78fe-8131-4501-fad4-214e696d7bff"
      },
      "source": [
        "LogisticRegressionmodel.transform(test)\\\n",
        "    .select(\"prediction\", \"label\", \"model\")\\\n",
        "    .show()"
      ],
      "execution_count": null,
      "outputs": [
        {
          "name": "stdout",
          "output_type": "stream",
          "text": [
            "+----------+-----+--------------------+\n",
            "|prediction|label|               model|\n",
            "+----------+-----+--------------------+\n",
            "|       5.0|    1|[0.02868496689875...|\n",
            "|       5.0|    1|[-0.0603504687404...|\n",
            "|       5.0|    1|[-0.0301186458002...|\n",
            "|       5.0|    1|[-0.0062476471904...|\n",
            "|       5.0|    1|[-0.0042385605629...|\n",
            "|       5.0|    1|[-0.0198777261456...|\n",
            "|       5.0|    1|[-0.0177130518853...|\n",
            "|       1.0|    1|[-0.0156535421582...|\n",
            "|       5.0|    1|[-0.0369633138179...|\n",
            "|       5.0|    1|[-0.0821046175169...|\n",
            "|       4.0|    1|[-0.0099211590070...|\n",
            "|       4.0|    1|[-0.0327959347187...|\n",
            "|       5.0|    1|[-0.0207394393250...|\n",
            "|       5.0|    1|[-0.0280712807347...|\n",
            "|       5.0|    1|[0.00129717584083...|\n",
            "|       5.0|    1|[-0.0550121396387...|\n",
            "|       5.0|    1|[-0.0157080934870...|\n",
            "|       5.0|    1|[-0.0555058641030...|\n",
            "|       5.0|    1|[-0.0116023177703...|\n",
            "|       1.0|    2|[-0.0088467702050...|\n",
            "+----------+-----+--------------------+\n",
            "only showing top 20 rows\n",
            "\n"
          ]
        }
      ]
    },
    {
      "cell_type": "code",
      "metadata": {
        "id": "MPn_P005n54C",
        "outputId": "fae9121e-9bd4-4b65-9a6a-9193720aea54"
      },
      "source": [
        "predictions_LogisticRegression = LogisticRegressionmodel.transform(test)\n",
        "my_eval_nb = RegressionEvaluator(labelCol='label',metricName=\"rmse\")\n",
        "print(\"RMSE is :  \" + str(my_eval_nb.evaluate(predictions_LogisticRegression)))"
      ],
      "execution_count": null,
      "outputs": [
        {
          "name": "stdout",
          "output_type": "stream",
          "text": [
            "RMSE is :  0.948410177763\n"
          ]
        }
      ]
    },
    {
      "cell_type": "markdown",
      "metadata": {
        "id": "dvHPSo15MPvu"
      },
      "source": [
        "### Random forest classifier"
      ]
    },
    {
      "cell_type": "code",
      "metadata": {
        "id": "QZ9AC9bBn54D"
      },
      "source": [
        "from pyspark.ml.classification import RandomForestClassifier\n",
        "pipeline = Pipeline(stages=[\n",
        "    Tokenizer(inputCol=\"comments\", outputCol=\"words\"),\n",
        "    Word2Vec(inputCol=\"words\", outputCol=\"model\"),\n",
        "    RandomForestClassifier(featuresCol=\"model\",labelCol=\"label\",numTrees=50)\n",
        "])"
      ],
      "execution_count": null,
      "outputs": []
    },
    {
      "cell_type": "markdown",
      "metadata": {
        "id": "36Jr1IVRMPvv"
      },
      "source": [
        "#### building our grid for random forest classifier"
      ]
    },
    {
      "cell_type": "code",
      "metadata": {
        "id": "n0Ty8r39OS5G"
      },
      "source": [
        "# param_grid = (ParamGridBuilder()\n",
        "#              .addGrid('maxDepth', [2, 5, 10, 20, 30])\n",
        "#              .addGrid('maxBins', [10, 20, 40, 80, 100])\n",
        "#              .addGrid('numTrees', [5, 20, 50, 100, 500])\n",
        "#              .build())\n",
        "#this one takes too much time so i did a smaller oner\n",
        "param_grid = (ParamGridBuilder()\n",
        "             .addGrid('maxDepth', [2, 5])\n",
        "             .addGrid('maxBins', [10, 20])\n",
        "             .addGrid('numTrees', [5, 20])\n",
        "             .build())"
      ],
      "execution_count": null,
      "outputs": []
    },
    {
      "cell_type": "code",
      "metadata": {
        "id": "ZNStOQQPn54D"
      },
      "source": [
        "RandomForestClassifiermodel = TrainValidationSplit(\n",
        "    estimator=pipeline,\n",
        "    estimatorParamMaps=param_grid,\n",
        "    evaluator=MulticlassClassificationEvaluator(labelCol=\"label\")\n",
        ").fit(train)"
      ],
      "execution_count": null,
      "outputs": []
    },
    {
      "cell_type": "markdown",
      "metadata": {
        "id": "9dpJPD7VMPvx"
      },
      "source": [
        "### Evaluating random forest classifier model"
      ]
    },
    {
      "cell_type": "code",
      "metadata": {
        "id": "IxcSGENTn54E",
        "outputId": "437c2fa5-32c4-4152-c001-f6f23d637df5"
      },
      "source": [
        "RandomForestClassifiermodel.validationMetrics"
      ],
      "execution_count": null,
      "outputs": [
        {
          "data": {
            "text/plain": [
              "[0.6490119547548725,\n",
              " 0.6490119547548725,\n",
              " 0.6490119547548725,\n",
              " 0.6490119547548725,\n",
              " 0.6490119547548725,\n",
              " 0.6490119547548725,\n",
              " 0.6490119547548725,\n",
              " 0.6490119547548725]"
            ]
          },
          "execution_count": 63,
          "metadata": {},
          "output_type": "execute_result"
        }
      ]
    },
    {
      "cell_type": "code",
      "metadata": {
        "id": "oAsWwHAxn54E",
        "outputId": "99e6ae36-ebc7-4e67-b0be-ea09d8004d08"
      },
      "source": [
        "RandomForestClassifiermodel.getEvaluator().getMetricName()"
      ],
      "execution_count": null,
      "outputs": [
        {
          "data": {
            "text/plain": [
              "'f1'"
            ]
          },
          "execution_count": 64,
          "metadata": {},
          "output_type": "execute_result"
        }
      ]
    },
    {
      "cell_type": "code",
      "metadata": {
        "id": "PrUrS8Ven54F",
        "outputId": "764de67f-b4b3-4ab3-d3b8-3cd00e51af11"
      },
      "source": [
        "RandomForestClassifiermodel.transform(test)\\\n",
        "    .select(\"prediction\", \"label\", \"model\")\\\n",
        "    .show()"
      ],
      "execution_count": null,
      "outputs": [
        {
          "name": "stdout",
          "output_type": "stream",
          "text": [
            "+----------+-----+--------------------+\n",
            "|prediction|label|               model|\n",
            "+----------+-----+--------------------+\n",
            "|       5.0|    1|[0.02868496689875...|\n",
            "|       5.0|    1|[-0.0603504687404...|\n",
            "|       5.0|    1|[-0.0301186458002...|\n",
            "|       5.0|    1|[-0.0062476471904...|\n",
            "|       5.0|    1|[-0.0042385605629...|\n",
            "|       5.0|    1|[-0.0198777261456...|\n",
            "|       5.0|    1|[-0.0177130518853...|\n",
            "|       5.0|    1|[-0.0156535421582...|\n",
            "|       5.0|    1|[-0.0369633138179...|\n",
            "|       5.0|    1|[-0.0821046175169...|\n",
            "|       5.0|    1|[-0.0099211590070...|\n",
            "|       4.0|    1|[-0.0327959347187...|\n",
            "|       5.0|    1|[-0.0207394393250...|\n",
            "|       4.0|    1|[-0.0280712807347...|\n",
            "|       5.0|    1|[0.00129717584083...|\n",
            "|       5.0|    1|[-0.0550121396387...|\n",
            "|       5.0|    1|[-0.0157080934870...|\n",
            "|       5.0|    1|[-0.0555058641030...|\n",
            "|       5.0|    1|[-0.0116023177703...|\n",
            "|       5.0|    2|[-0.0088467702050...|\n",
            "+----------+-----+--------------------+\n",
            "only showing top 20 rows\n",
            "\n"
          ]
        }
      ]
    },
    {
      "cell_type": "code",
      "metadata": {
        "id": "iWOp215on54G",
        "outputId": "cf81bbb2-2041-42f0-81a5-cfc47e5b4bb7"
      },
      "source": [
        "predictions_RandomForestClassifier = RandomForestClassifiermodel.transform(test)\n",
        "my_eval_nb = RegressionEvaluator(labelCol='label',metricName=\"rmse\")\n",
        "print(\"RMSE is : \" + str(my_eval_nb.evaluate(predictions_RandomForestClassifier)))"
      ],
      "execution_count": null,
      "outputs": [
        {
          "name": "stdout",
          "output_type": "stream",
          "text": [
            "RMSE is : 0.93962841294\n"
          ]
        }
      ]
    },
    {
      "cell_type": "markdown",
      "metadata": {
        "id": "2t9bBZIAMPvz"
      },
      "source": [
        "### Decision tree classifier"
      ]
    },
    {
      "cell_type": "code",
      "metadata": {
        "id": "g78I9BAgOiyD"
      },
      "source": [
        "from pyspark.ml.classification import DecisionTreeClassifier\n",
        "pipeline = Pipeline(stages=[\n",
        "    Tokenizer(inputCol=\"comments\", outputCol=\"words\"),\n",
        "    Word2Vec(inputCol=\"words\", outputCol=\"model\"),\n",
        "    DecisionTreeClassifier(featuresCol=\"model\",labelCol=\"label\")\n",
        "])"
      ],
      "execution_count": null,
      "outputs": []
    },
    {
      "cell_type": "code",
      "metadata": {
        "id": "4NBLjBU2OlOf"
      },
      "source": [
        "# param_grid = (ParamGridBuilder()\n",
        "#              .addGrid('maxDepth', [2, 5, 10, 20, 30])\n",
        "#              .addGrid('maxBins', [10, 20, 40, 80, 100])\n",
        "#              .build())\n",
        "#this grid takes too much time so i did a smaller one\n",
        "\n",
        "param_grid = (ParamGridBuilder()\n",
        "             .addGrid('maxDepth', [2, 5])\n",
        "             .addGrid('maxBins', [10, 20])\n",
        "             .build())"
      ],
      "execution_count": null,
      "outputs": []
    },
    {
      "cell_type": "code",
      "metadata": {
        "id": "H96jZYUjOnQu"
      },
      "source": [
        "DecisionTreeClassifiermodel = TrainValidationSplit(\n",
        "    estimator=pipeline,\n",
        "    estimatorParamMaps=param_grid,\n",
        "    evaluator=MulticlassClassificationEvaluator(labelCol=\"label\")\n",
        ").fit(train)"
      ],
      "execution_count": null,
      "outputs": []
    },
    {
      "cell_type": "markdown",
      "metadata": {
        "id": "Ib-OroMFMPv0"
      },
      "source": [
        "### Evaluating decision tree classifier"
      ]
    },
    {
      "cell_type": "code",
      "metadata": {
        "id": "RMmLE3W7Otjd",
        "outputId": "142881bf-7614-4993-898e-f1d3b3d6dc95"
      },
      "source": [
        "DecisionTreeClassifiermodel.validationMetrics"
      ],
      "execution_count": null,
      "outputs": [
        {
          "data": {
            "text/plain": [
              "[0.6703902149711483,\n",
              " 0.6703902149711483,\n",
              " 0.6703902149711483,\n",
              " 0.6703902149711483]"
            ]
          },
          "execution_count": 78,
          "metadata": {},
          "output_type": "execute_result"
        }
      ]
    },
    {
      "cell_type": "code",
      "metadata": {
        "id": "khhLB3prOy2S",
        "outputId": "45800f3b-e6e8-47c3-abbf-3dfe507a5fb9"
      },
      "source": [
        "DecisionTreeClassifiermodel.getEvaluator().getMetricName()"
      ],
      "execution_count": null,
      "outputs": [
        {
          "data": {
            "text/plain": [
              "'f1'"
            ]
          },
          "execution_count": 79,
          "metadata": {},
          "output_type": "execute_result"
        }
      ]
    },
    {
      "cell_type": "code",
      "metadata": {
        "id": "vECdS2Z-O2Kb",
        "outputId": "d9ea351d-79d8-49c5-a7c7-772dbd9fcad5"
      },
      "source": [
        "DecisionTreeClassifiermodel.transform(test)\\\n",
        "    .select(\"prediction\", \"label\", \"model\")\\\n",
        "    .show()"
      ],
      "execution_count": null,
      "outputs": [
        {
          "name": "stdout",
          "output_type": "stream",
          "text": [
            "+----------+-----+--------------------+\n",
            "|prediction|label|               model|\n",
            "+----------+-----+--------------------+\n",
            "|       5.0|    1|[0.02868496689875...|\n",
            "|       5.0|    1|[-0.0603504687404...|\n",
            "|       5.0|    1|[-0.0301186458002...|\n",
            "|       5.0|    1|[-0.0062476471904...|\n",
            "|       4.0|    1|[-0.0042385605629...|\n",
            "|       5.0|    1|[-0.0198777261456...|\n",
            "|       4.0|    1|[-0.0177130518853...|\n",
            "|       5.0|    1|[-0.0156535421582...|\n",
            "|       5.0|    1|[-0.0369633138179...|\n",
            "|       5.0|    1|[-0.0821046175169...|\n",
            "|       4.0|    1|[-0.0099211590070...|\n",
            "|       4.0|    1|[-0.0327959347187...|\n",
            "|       5.0|    1|[-0.0207394393250...|\n",
            "|       4.0|    1|[-0.0280712807347...|\n",
            "|       5.0|    1|[0.00129717584083...|\n",
            "|       5.0|    1|[-0.0550121396387...|\n",
            "|       5.0|    1|[-0.0157080934870...|\n",
            "|       4.0|    1|[-0.0555058641030...|\n",
            "|       4.0|    1|[-0.0116023177703...|\n",
            "|       4.0|    2|[-0.0088467702050...|\n",
            "+----------+-----+--------------------+\n",
            "only showing top 20 rows\n",
            "\n"
          ]
        }
      ]
    },
    {
      "cell_type": "code",
      "metadata": {
        "id": "bqqRzm7lO4bB",
        "outputId": "599f82af-9db8-47be-adbf-e2573231d634"
      },
      "source": [
        "predictions_DecisionTreeClassifier = DecisionTreeClassifiermodel.transform(test)\n",
        "print(\"RMSE is: \"+ str (my_eval_nb.evaluate(predictions_DecisionTreeClassifier)))"
      ],
      "execution_count": null,
      "outputs": [
        {
          "name": "stdout",
          "output_type": "stream",
          "text": [
            "RMSE is: 0.896163382587\n"
          ]
        }
      ]
    },
    {
      "cell_type": "code",
      "metadata": {
        "id": "UAJOKx8VMPv1",
        "outputId": "e172ff5f-770d-4408-bc7b-6bbe293d1641"
      },
      "source": [
        "my_mc_nb = MulticlassClassificationEvaluator(predictionCol='prediction', labelCol='label', metricName='accuracy')\n",
        "print(\"Accuracy for RandomForestClassifier is : \" + str(my_mc_nb.evaluate(predictions_RandomForestClassifier)))\n",
        "print(\"Accuracy for LogisticRegression is : \" + str(my_mc_nb.evaluate(predictions_LogisticRegression)))\n",
        "print(\"Accuracy for DecisionTreeClassifier is : \" + str(my_mc_nb.evaluate(predictions_DecisionTreeClassifier)))"
      ],
      "execution_count": null,
      "outputs": [
        {
          "name": "stdout",
          "output_type": "stream",
          "text": [
            "Accuracy for RandomForestClassifier is : 0.723316062176\n",
            "Accuracy for LogisticRegression is : 0.721243523316\n",
            "Accuracy for DecisionTreeClassifier is : 0.708808290155\n"
          ]
        }
      ]
    },
    {
      "cell_type": "markdown",
      "metadata": {
        "id": "G9Rnqd-IMPv2"
      },
      "source": [
        "## Best accuracy score is for random forest classifier"
      ]
    },
    {
      "cell_type": "code",
      "metadata": {
        "id": "l3G-bcKRMPv2",
        "outputId": "4b48edf2-f89e-493b-ae67-6933e6439a70"
      },
      "source": [
        "print(\"RMSE for RandomForestClassifier is : \" + str(my_eval_nb.evaluate(predictions_RandomForestClassifier)))\n",
        "print(\"RMSE for linearRegression is : \"+ str(my_eval_nb.evaluate(predictions_linearRegression)))\n",
        "print(\"RMSE for LogisticRegression is :  \" + str(my_eval_nb.evaluate(predictions_LogisticRegression)))\n",
        "print(\"RMSE for DecisionTreeClassifier is: \"+ str (my_eval_nb.evaluate(predictions_DecisionTreeClassifier)))"
      ],
      "execution_count": null,
      "outputs": [
        {
          "name": "stdout",
          "output_type": "stream",
          "text": [
            "RMSE for RandomForestClassifier is : 0.93962841294\n",
            "RMSE for linearRegression is : 0.788112569824\n",
            "RMSE for LogisticRegression is :  0.948410177763\n",
            "RMSE for DecisionTreeClassifier is: 0.896163382587\n"
          ]
        }
      ]
    },
    {
      "cell_type": "markdown",
      "metadata": {
        "id": "E9fPoIHZMPv2"
      },
      "source": [
        "## Best RMSE score is for linearRegression"
      ]
    },
    {
      "cell_type": "markdown",
      "metadata": {
        "id": "gse0zwRvMPv3"
      },
      "source": [
        "### we can conclude that linear regression was the best model."
      ]
    },
    {
      "cell_type": "code",
      "metadata": {
        "id": "Kni6zMr-MPv3"
      },
      "source": [
        ""
      ],
      "execution_count": null,
      "outputs": []
    }
  ]
}